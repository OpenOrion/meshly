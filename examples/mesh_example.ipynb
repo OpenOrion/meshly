{
 "cells": [
  {
   "cell_type": "markdown",
   "metadata": {},
   "source": [
    "# Mesh and Metadata Example\n",
    "\n",
    "This notebook demonstrates how to work with meshes and metadata in pymeshoptimizer. It covers:\n",
    "\n",
    "1. Creating and working with meshes\n",
    "2. Optimizing and simplifying meshes\n",
    "3. Using Pydantic models for metadata\n",
    "4. Combined storage of meshes and arrays\n",
    "5. In-memory operations with binary data"
   ]
  },
  {
   "cell_type": "code",
   "execution_count": 1,
   "metadata": {},
   "outputs": [],
   "source": [
    "import os\n",
    "import numpy as np\n",
    "\n",
    "# Import mesh-related functionality\n",
    "from pymeshoptimizer import Mesh, encode_mesh, decode_mesh\n",
    "\n",
    "# Import IO functionality\n",
    "from pymeshoptimizer.io import (\n",
    "    save_mesh_to_zip, load_mesh_from_zip,\n",
    "    save_combined_data_to_zip, get_combined_data_as_bytes, load_combined_data_from_zip,\n",
    "    ArrayMetadata, MeshMetadata, ArraysMetadata\n",
    ")\n",
    "\n",
    "# Import array utilities\n",
    "from pymeshoptimizer.arrayutils import encode_array, decode_array"
   ]
  },
  {
   "cell_type": "markdown",
   "metadata": {},
   "source": [
    "## 1. Creating and Working with Meshes\n",
    "\n",
    "Let's create a simple cube mesh to work with:"
   ]
  },
  {
   "cell_type": "code",
   "execution_count": 2,
   "metadata": {},
   "outputs": [
    {
     "name": "stdout",
     "output_type": "stream",
     "text": [
      "Mesh created with 8 vertices and 36 indices\n"
     ]
    }
   ],
   "source": [
    "# Create a cube mesh\n",
    "vertices = np.array([\n",
    "    [-0.5, -0.5, -0.5],  # 0: bottom-left-back\n",
    "    [0.5, -0.5, -0.5],   # 1: bottom-right-back\n",
    "    [0.5, 0.5, -0.5],    # 2: top-right-back\n",
    "    [-0.5, 0.5, -0.5],   # 3: top-left-back\n",
    "    [-0.5, -0.5, 0.5],   # 4: bottom-left-front\n",
    "    [0.5, -0.5, 0.5],    # 5: bottom-right-front\n",
    "    [0.5, 0.5, 0.5],     # 6: top-right-front\n",
    "    [-0.5, 0.5, 0.5]     # 7: top-left-front\n",
    "], dtype=np.float32)\n",
    "\n",
    "indices = np.array([\n",
    "    0, 1, 2, 2, 3, 0,  # back face\n",
    "    1, 5, 6, 6, 2, 1,  # right face\n",
    "    5, 4, 7, 7, 6, 5,  # front face\n",
    "    4, 0, 3, 3, 7, 4,  # left face\n",
    "    3, 2, 6, 6, 7, 3,  # top face\n",
    "    4, 5, 1, 1, 0, 4   # bottom face\n",
    "], dtype=np.uint32)\n",
    "\n",
    "# Create a mesh object\n",
    "mesh = Mesh(vertices, indices)\n",
    "\n",
    "print(f\"Mesh created with {mesh.vertex_count} vertices and {mesh.index_count} indices\")"
   ]
  },
  {
   "cell_type": "markdown",
   "metadata": {},
   "source": [
    "## 2. Optimizing and Simplifying Meshes\n",
    "\n",
    "Now let's optimize the mesh for better rendering performance:"
   ]
  },
  {
   "cell_type": "code",
   "execution_count": 3,
   "metadata": {},
   "outputs": [
    {
     "name": "stdout",
     "output_type": "stream",
     "text": [
      "Optimized for vertex cache\n",
      "Optimized for overdraw\n",
      "Optimized for vertex fetch\n",
      "Simplified mesh from 36 to 36 indices\n"
     ]
    }
   ],
   "source": [
    "# Optimize the mesh for vertex cache\n",
    "mesh.optimize_vertex_cache()\n",
    "print(\"Optimized for vertex cache\")\n",
    "\n",
    "# Optimize the mesh for overdraw\n",
    "mesh.optimize_overdraw()\n",
    "print(\"Optimized for overdraw\")\n",
    "\n",
    "# Optimize the mesh for vertex fetch\n",
    "mesh.optimize_vertex_fetch()\n",
    "print(\"Optimized for vertex fetch\")\n",
    "\n",
    "# Let's also try simplifying the mesh\n",
    "# For a cube, this might not do much, but for complex meshes it would reduce triangle count\n",
    "original_index_count = mesh.index_count\n",
    "mesh.simplify(target_ratio=0.5)  # Keep 50% of triangles\n",
    "print(f\"Simplified mesh from {original_index_count} to {mesh.index_count} indices\")"
   ]
  },
  {
   "cell_type": "markdown",
   "metadata": {},
   "source": [
    "## 3. Encoding and Decoding Meshes\n",
    "\n",
    "Let's encode the mesh for storage or transmission:"
   ]
  },
  {
   "cell_type": "code",
   "execution_count": 4,
   "metadata": {},
   "outputs": [
    {
     "name": "stdout",
     "output_type": "stream",
     "text": [
      "Encoded mesh: 67 bytes for vertices, 29 bytes for indices\n",
      "Encoded mesh (direct): 65 bytes for vertices, 37 bytes for indices\n",
      "Decoded mesh: 8 vertices, 36 indices\n",
      "Decoded vertices shape: (8, 3), indices shape: (36,)\n"
     ]
    }
   ],
   "source": [
    "# Encode the mesh\n",
    "encoded_mesh = mesh.encode()\n",
    "print(f\"Encoded mesh: {len(encoded_mesh.vertices)} bytes for vertices, {len(encoded_mesh.indices)} bytes for indices\")\n",
    "\n",
    "# Alternatively, we can encode vertices and indices directly\n",
    "encoded_mesh2 = encode_mesh(vertices, indices)\n",
    "print(f\"Encoded mesh (direct): {len(encoded_mesh2.vertices)} bytes for vertices, {len(encoded_mesh2.indices)} bytes for indices\")\n",
    "\n",
    "# Decode the mesh\n",
    "decoded_mesh = Mesh.decode(encoded_mesh)\n",
    "print(f\"Decoded mesh: {decoded_mesh.vertex_count} vertices, {decoded_mesh.index_count} indices\")\n",
    "\n",
    "# Alternatively, we can decode to vertices and indices directly\n",
    "decoded_vertices, decoded_indices = decode_mesh(encoded_mesh)\n",
    "print(f\"Decoded vertices shape: {decoded_vertices.shape}, indices shape: {decoded_indices.shape}\")"
   ]
  },
  {
   "cell_type": "markdown",
   "metadata": {},
   "source": [
    "## 4. Using Pydantic Models for Metadata\n",
    "\n",
    "Now let's demonstrate how to use the Pydantic models for metadata:"
   ]
  },
  {
   "cell_type": "code",
   "execution_count": 5,
   "metadata": {},
   "outputs": [
    {
     "name": "stdout",
     "output_type": "stream",
     "text": [
      "Array metadata: shape=(100, 3) dtype='float32' itemsize=4 filename=None\n",
      "Mesh metadata: vertex_count=1000 vertex_size=12 index_size=2 index_count=3000\n",
      "Arrays metadata: root={'positions': ArrayMetadata(shape=(1000, 3), dtype='float32', itemsize=4, filename=None), 'normals': ArrayMetadata(shape=(1000, 3), dtype='float32', itemsize=4, filename=None)}\n",
      "JSON data:\n",
      "{\n",
      "  \"vertex_count\": 1000,\n",
      "  \"vertex_size\": 12,\n",
      "  \"index_size\": 2,\n",
      "  \"index_count\": 3000\n",
      "}\n",
      "Loaded metadata: vertex_count=1000 vertex_size=12 index_size=2 index_count=3000\n"
     ]
    }
   ],
   "source": [
    "# Create array metadata\n",
    "array_metadata = ArrayMetadata(\n",
    "    shape=(100, 3),\n",
    "    dtype=\"float32\",\n",
    "    itemsize=4\n",
    ")\n",
    "print(f\"Array metadata: {array_metadata}\")\n",
    "\n",
    "# Create mesh metadata\n",
    "mesh_metadata = MeshMetadata(\n",
    "    vertex_count=1000,\n",
    "    vertex_size=12,\n",
    "    index_count=3000,\n",
    "    index_size=2\n",
    ")\n",
    "print(f\"Mesh metadata: {mesh_metadata}\")\n",
    "\n",
    "# Create a container for multiple array metadata\n",
    "arrays_metadata = ArraysMetadata.create_empty()\n",
    "arrays_metadata[\"positions\"] = ArrayMetadata(shape=(1000, 3), dtype=\"float32\", itemsize=4)\n",
    "arrays_metadata[\"normals\"] = ArrayMetadata(shape=(1000, 3), dtype=\"float32\", itemsize=4)\n",
    "print(f\"Arrays metadata: {arrays_metadata}\")\n",
    "\n",
    "# Serialize to JSON\n",
    "json_data = mesh_metadata.model_dump_json(indent=2)\n",
    "print(f\"JSON data:\\n{json_data}\")\n",
    "\n",
    "# Deserialize from JSON\n",
    "loaded_metadata = MeshMetadata.model_validate_json(json_data)\n",
    "print(f\"Loaded metadata: {loaded_metadata}\")"
   ]
  },
  {
   "cell_type": "markdown",
   "metadata": {},
   "source": [
    "## 5. Saving and Loading Meshes\n",
    "\n",
    "Let's save the mesh to a zip file and load it back:"
   ]
  },
  {
   "cell_type": "code",
   "execution_count": 6,
   "metadata": {},
   "outputs": [
    {
     "name": "stdout",
     "output_type": "stream",
     "text": [
      "Saved mesh to mesh_example.zip, file size: 432 bytes\n",
      "Loaded mesh: 8 vertices, 36 indices\n"
     ]
    }
   ],
   "source": [
    "# Save the mesh to a zip file\n",
    "zip_path = \"mesh_example.zip\"\n",
    "save_mesh_to_zip(mesh, zip_path)\n",
    "print(f\"Saved mesh to {zip_path}, file size: {os.path.getsize(zip_path)} bytes\")\n",
    "\n",
    "# Load the mesh from the zip file\n",
    "loaded_mesh = load_mesh_from_zip(Mesh, zip_path)\n",
    "print(f\"Loaded mesh: {loaded_mesh.vertex_count} vertices, {loaded_mesh.index_count} indices\")"
   ]
  },
  {
   "cell_type": "markdown",
   "metadata": {},
   "source": [
    "## 6. Combined Storage of Meshes and Arrays\n",
    "\n",
    "Now let's create some additional arrays and store them together with the mesh:"
   ]
  },
  {
   "cell_type": "code",
   "execution_count": 7,
   "metadata": {},
   "outputs": [
    {
     "name": "stdout",
     "output_type": "stream",
     "text": [
      "Saved combined data to combined_data.zip, file size: 1328 bytes\n",
      "Loaded mesh: 8 vertices, 36 indices\n",
      "Loaded arrays: ['normals', 'colors']\n",
      "Loaded metadata: {'name': 'Cube Mesh', 'version': '1.0', 'description': 'A simple cube mesh with normals and colors'}\n"
     ]
    }
   ],
   "source": [
    "# Create some arrays to store with the mesh\n",
    "# For example, vertex normals and colors\n",
    "normals = np.random.random((mesh.vertex_count, 3)).astype(np.float32)\n",
    "colors = np.random.random((mesh.vertex_count, 4)).astype(np.float32)  # RGBA colors\n",
    "\n",
    "# Encode the arrays\n",
    "encoded_normals = encode_array(normals)\n",
    "encoded_colors = encode_array(colors)\n",
    "\n",
    "# Create a dictionary of encoded arrays\n",
    "encoded_arrays = {\n",
    "    \"normals\": encoded_normals,\n",
    "    \"colors\": encoded_colors\n",
    "}\n",
    "\n",
    "# Create some metadata\n",
    "metadata = {\n",
    "    \"name\": \"Cube Mesh\",\n",
    "    \"version\": \"1.0\",\n",
    "    \"description\": \"A simple cube mesh with normals and colors\"\n",
    "}\n",
    "\n",
    "# Save the combined data to a zip file\n",
    "combined_zip_path = \"combined_data.zip\"\n",
    "save_combined_data_to_zip(\n",
    "    encoded_mesh=encoded_mesh,\n",
    "    encoded_arrays=encoded_arrays,\n",
    "    metadata=metadata,\n",
    "    zip_path=combined_zip_path\n",
    ")\n",
    "print(f\"Saved combined data to {combined_zip_path}, file size: {os.path.getsize(combined_zip_path)} bytes\")\n",
    "\n",
    "# Load the combined data from the zip file\n",
    "loaded_mesh, loaded_arrays, loaded_metadata = load_combined_data_from_zip(combined_zip_path)\n",
    "print(f\"Loaded mesh: {loaded_mesh.vertex_count} vertices, {loaded_mesh.index_count} indices\")\n",
    "print(f\"Loaded arrays: {list(loaded_arrays.keys())}\")\n",
    "print(f\"Loaded metadata: {loaded_metadata}\")"
   ]
  },
  {
   "cell_type": "markdown",
   "metadata": {},
   "source": [
    "## 7. In-Memory Operations with Binary Data\n",
    "\n",
    "Finally, let's demonstrate how to work with binary data in memory without saving to disk:"
   ]
  },
  {
   "cell_type": "code",
   "execution_count": 8,
   "metadata": {},
   "outputs": [
    {
     "name": "stdout",
     "output_type": "stream",
     "text": [
      "Got combined data as bytes, size: 1328 bytes\n",
      "Loaded mesh from bytes: 8 vertices, 36 indices\n",
      "Loaded arrays from bytes: ['normals', 'colors']\n",
      "Loaded metadata from bytes: {'name': 'Cube Mesh', 'version': '1.0', 'description': 'A simple cube mesh with normals and colors'}\n"
     ]
    }
   ],
   "source": [
    "# Get the combined data as bytes\n",
    "zip_bytes = get_combined_data_as_bytes(\n",
    "    encoded_mesh=encoded_mesh,\n",
    "    encoded_arrays=encoded_arrays,\n",
    "    metadata=metadata\n",
    ")\n",
    "print(f\"Got combined data as bytes, size: {len(zip_bytes)} bytes\")\n",
    "\n",
    "# Load the combined data directly from bytes\n",
    "loaded_mesh, loaded_arrays, loaded_metadata = load_combined_data_from_zip(zip_bytes)\n",
    "print(f\"Loaded mesh from bytes: {loaded_mesh.vertex_count} vertices, {loaded_mesh.index_count} indices\")\n",
    "print(f\"Loaded arrays from bytes: {list(loaded_arrays.keys())}\")\n",
    "print(f\"Loaded metadata from bytes: {loaded_metadata}\")"
   ]
  },
  {
   "cell_type": "markdown",
   "metadata": {},
   "source": [
    "## Cleaning Up\n",
    "\n",
    "Let's clean up the files we created:"
   ]
  },
  {
   "cell_type": "code",
   "execution_count": 9,
   "metadata": {},
   "outputs": [
    {
     "name": "stdout",
     "output_type": "stream",
     "text": [
      "Removed mesh_example.zip\n",
      "Removed combined_data.zip\n",
      "\n",
      "Example completed successfully!\n"
     ]
    }
   ],
   "source": [
    "# Clean up\n",
    "for path in [zip_path, combined_zip_path]:\n",
    "    if os.path.exists(path):\n",
    "        os.remove(path)\n",
    "        print(f\"Removed {path}\")\n",
    "\n",
    "print(\"\\nExample completed successfully!\")"
   ]
  }
 ],
 "metadata": {
  "kernelspec": {
   "display_name": "Python 3",
   "language": "python",
   "name": "python3"
  },
  "language_info": {
   "codemirror_mode": {
    "name": "ipython",
    "version": 3
   },
   "file_extension": ".py",
   "mimetype": "text/x-python",
   "name": "python",
   "nbconvert_exporter": "python",
   "pygments_lexer": "ipython3",
   "version": "3.12.8"
  }
 },
 "nbformat": 4,
 "nbformat_minor": 4
}
