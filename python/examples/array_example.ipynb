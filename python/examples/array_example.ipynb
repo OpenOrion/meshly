{
 "cells": [
  {
   "cell_type": "markdown",
   "metadata": {},
   "source": [
    "# Array Compression and Serialization Example\n",
    "\n",
    "This notebook demonstrates how to use the ArrayUtils class in meshly for compressing and serializing numpy arrays. It covers:\n",
    "\n",
    "1. Encoding and decoding arrays using meshoptimizer compression\n",
    "2. Saving and loading arrays to/from zip files\n",
    "3. Working with different data types\n",
    "4. Performance comparison with uncompressed arrays\n",
    "5. Cross-platform compatibility with TypeScript"
   ]
  },
  {
   "cell_type": "code",
   "execution_count": 2,
   "metadata": {},
   "outputs": [],
   "source": [
    "import os\n",
    "import tempfile\n",
    "from io import BytesIO\n",
    "import numpy as np\n",
    "from meshly import ArrayUtils"
   ]
  },
  {
   "cell_type": "markdown",
   "metadata": {},
   "source": [
    "## 1. Basic Array Encoding and Decoding\n",
    "\n",
    "The `ArrayUtils.encode_array()` function compresses numpy arrays using meshoptimizer's vertex buffer encoding, which is optimized for 3D graphics data but works well on general numeric arrays."
   ]
  },
  {
   "cell_type": "code",
   "execution_count": 3,
   "metadata": {},
   "outputs": [
    {
     "name": "stdout",
     "output_type": "stream",
     "text": [
      "Linear array shape: (1000,), dtype: float32\n",
      "Random array shape: (100, 3), dtype: float32\n",
      "Integer array shape: (50, 50), dtype: int32\n"
     ]
    }
   ],
   "source": [
    "# Create test arrays with different characteristics\n",
    "linear_array = np.linspace(0, 100, 1000, dtype=np.float32)\n",
    "random_array = np.random.random((100, 3)).astype(np.float32)\n",
    "integer_array = np.random.randint(0, 255, (50, 50), dtype=np.int32)\n",
    "\n",
    "print(f\"Linear array shape: {linear_array.shape}, dtype: {linear_array.dtype}\")\n",
    "print(f\"Random array shape: {random_array.shape}, dtype: {random_array.dtype}\")\n",
    "print(f\"Integer array shape: {integer_array.shape}, dtype: {integer_array.dtype}\")"
   ]
  },
  {
   "cell_type": "code",
   "execution_count": 4,
   "metadata": {},
   "outputs": [
    {
     "name": "stdout",
     "output_type": "stream",
     "text": [
      "Original size: 4000 bytes\n",
      "Encoded size: 2294 bytes\n",
      "Compression ratio: 0.574\n",
      "Encoded metadata: shape=(1000,), dtype=float32, itemsize=4\n"
     ]
    }
   ],
   "source": [
    "# Encode the linear array\n",
    "encoded_linear = ArrayUtils.encode_array(linear_array)\n",
    "\n",
    "print(f\"Original size: {linear_array.nbytes} bytes\")\n",
    "print(f\"Encoded size: {len(encoded_linear.data)} bytes\")\n",
    "print(f\"Compression ratio: {len(encoded_linear.data) / linear_array.nbytes:.3f}\")\n",
    "print(f\"Encoded metadata: shape={encoded_linear.shape}, dtype={encoded_linear.dtype}, itemsize={encoded_linear.itemsize}\")"
   ]
  },
  {
   "cell_type": "code",
   "execution_count": 5,
   "metadata": {},
   "outputs": [
    {
     "name": "stdout",
     "output_type": "stream",
     "text": [
      "Decoded array shape: (1000,)\n",
      "Decoded array dtype: float32\n",
      "Arrays are equal: True\n",
      "Maximum difference: 0.0\n"
     ]
    }
   ],
   "source": [
    "# Decode the array and verify it matches the original\n",
    "decoded_linear = ArrayUtils.decode_array(encoded_linear)\n",
    "\n",
    "print(f\"Decoded array shape: {decoded_linear.shape}\")\n",
    "print(f\"Decoded array dtype: {decoded_linear.dtype}\")\n",
    "print(f\"Arrays are equal: {np.allclose(linear_array, decoded_linear)}\")\n",
    "print(f\"Maximum difference: {np.max(np.abs(linear_array - decoded_linear))}\")"
   ]
  },
  {
   "cell_type": "markdown",
   "metadata": {},
   "source": [
    "## 2. Compression Performance on Different Array Types\n",
    "\n",
    "Different types of data compress differently. Let's compare compression ratios for various array types."
   ]
  },
  {
   "cell_type": "code",
   "execution_count": 6,
   "metadata": {},
   "outputs": [
    {
     "name": "stdout",
     "output_type": "stream",
     "text": [
      "Linear sequence:\n",
      "  Original: 4,000 bytes, Encoded: 2,294 bytes\n",
      "  Compression ratio: 0.574\n",
      "  Decoded correctly: True\n",
      "\n",
      "Random values:\n",
      "  Original: 1,200 bytes, Encoded: 1,076 bytes\n",
      "  Compression ratio: 0.897\n",
      "  Decoded correctly: True\n",
      "\n",
      "Integer values:\n",
      "  Original: 10,000 bytes, Encoded: 3,662 bytes\n",
      "  Compression ratio: 0.366\n",
      "  Decoded correctly: True\n",
      "\n"
     ]
    }
   ],
   "source": [
    "def test_compression(name, array):\n",
    "    \"\"\"Test compression ratio for an array.\"\"\"\n",
    "    encoded = ArrayUtils.encode_array(array)\n",
    "    decoded = ArrayUtils.decode_array(encoded)\n",
    "    \n",
    "    compression_ratio = len(encoded.data) / array.nbytes\n",
    "    is_equal = np.allclose(array, decoded, rtol=1e-5)\n",
    "    \n",
    "    print(f\"{name}:\")\n",
    "    print(f\"  Original: {array.nbytes:,} bytes, Encoded: {len(encoded.data):,} bytes\")\n",
    "    print(f\"  Compression ratio: {compression_ratio:.3f}\")\n",
    "    print(f\"  Decoded correctly: {is_equal}\")\n",
    "    print()\n",
    "    \n",
    "    return compression_ratio\n",
    "\n",
    "# Test different array types\n",
    "ratios = {}\n",
    "ratios['Linear'] = test_compression('Linear sequence', linear_array)\n",
    "ratios['Random'] = test_compression('Random values', random_array)\n",
    "ratios['Integer'] = test_compression('Integer values', integer_array)"
   ]
  },
  {
   "cell_type": "code",
   "execution_count": 7,
   "metadata": {},
   "outputs": [
    {
     "name": "stdout",
     "output_type": "stream",
     "text": [
      "3D Vertices:\n",
      "  Original: 96 bytes, Encoded: 75 bytes\n",
      "  Compression ratio: 0.781\n",
      "  Decoded correctly: True\n",
      "\n",
      "Repeated pattern:\n",
      "  Original: 4,000 bytes, Encoded: 1,351 bytes\n",
      "  Compression ratio: 0.338\n",
      "  Decoded correctly: True\n",
      "\n",
      "Smooth gradient:\n",
      "  Original: 4,000 bytes, Encoded: 2,366 bytes\n",
      "  Compression ratio: 0.592\n",
      "  Decoded correctly: True\n",
      "\n"
     ]
    }
   ],
   "source": [
    "# Test with more specific data patterns\n",
    "# Vertex-like data (common in 3D graphics)\n",
    "vertices = np.array([\n",
    "    [0.0, 0.0, 0.0], [1.0, 0.0, 0.0], [1.0, 1.0, 0.0], [0.0, 1.0, 0.0],\n",
    "    [0.0, 0.0, 1.0], [1.0, 0.0, 1.0], [1.0, 1.0, 1.0], [0.0, 1.0, 1.0]\n",
    "], dtype=np.float32)\n",
    "\n",
    "# Repeated pattern\n",
    "pattern = np.tile([1.0, 2.0, 3.0, 4.0], 250).astype(np.float32)\n",
    "\n",
    "# Smooth gradient\n",
    "gradient = np.linspace(0, 1, 1000).astype(np.float32)\n",
    "\n",
    "ratios['Vertices'] = test_compression('3D Vertices', vertices)\n",
    "ratios['Pattern'] = test_compression('Repeated pattern', pattern)\n",
    "ratios['Gradient'] = test_compression('Smooth gradient', gradient)"
   ]
  },
  {
   "cell_type": "markdown",
   "metadata": {},
   "source": [
    "## 3. Saving and Loading Arrays to/from Zip Files\n",
    "\n",
    "The ArrayUtils class provides convenient methods to save compressed arrays to zip files and load them back. This is useful for persistent storage and cross-platform data exchange."
   ]
  },
  {
   "cell_type": "code",
   "execution_count": 8,
   "metadata": {},
   "outputs": [
    {
     "name": "stdout",
     "output_type": "stream",
     "text": [
      "Sample array shape: (200, 3), dtype: float32\n",
      "Sample array size: 2400 bytes\n"
     ]
    }
   ],
   "source": [
    "# Create a sample array for saving\n",
    "sample_array = np.random.random((200, 3)).astype(np.float32)\n",
    "print(f\"Sample array shape: {sample_array.shape}, dtype: {sample_array.dtype}\")\n",
    "print(f\"Sample array size: {sample_array.nbytes} bytes\")"
   ]
  },
  {
   "cell_type": "code",
   "execution_count": 9,
   "metadata": {},
   "outputs": [
    {
     "name": "stdout",
     "output_type": "stream",
     "text": [
      "Saved to /tmp/tmpd3vlgz9u.zip\n",
      "Zip file size: 2391 bytes\n",
      "Compression ratio vs raw data: 0.996\n",
      "\n",
      "Loaded array shape: (200, 3)\n",
      "Loaded array dtype: float32\n",
      "Arrays are equal: True\n",
      "Cleaned up /tmp/tmpd3vlgz9u.zip\n"
     ]
    }
   ],
   "source": [
    "# Save to a temporary file\n",
    "with tempfile.NamedTemporaryFile(suffix='.zip', delete=False) as temp_file:\n",
    "    temp_path = temp_file.name\n",
    "\n",
    "try:\n",
    "    # Save the array to zip\n",
    "    ArrayUtils.save_to_zip(sample_array, temp_path)\n",
    "    \n",
    "    zip_size = os.path.getsize(temp_path)\n",
    "    print(f\"Saved to {temp_path}\")\n",
    "    print(f\"Zip file size: {zip_size} bytes\")\n",
    "    print(f\"Compression ratio vs raw data: {zip_size / sample_array.nbytes:.3f}\")\n",
    "    \n",
    "    # Load the array back\n",
    "    loaded_array = ArrayUtils.load_from_zip(temp_path)\n",
    "    \n",
    "    print(f\"\\nLoaded array shape: {loaded_array.shape}\")\n",
    "    print(f\"Loaded array dtype: {loaded_array.dtype}\")\n",
    "    print(f\"Arrays are equal: {np.allclose(sample_array, loaded_array)}\")\n",
    "    \n",
    "finally:\n",
    "    # Clean up\n",
    "    if os.path.exists(temp_path):\n",
    "        os.unlink(temp_path)\n",
    "        print(f\"Cleaned up {temp_path}\")"
   ]
  },
  {
   "cell_type": "markdown",
   "metadata": {},
   "source": [
    "## 4. Working with BytesIO (In-Memory) Zip Operations\n",
    "\n",
    "You can also work with zip data in memory using BytesIO, which is useful for network transmission or when you don't want to write to disk."
   ]
  },
  {
   "cell_type": "code",
   "execution_count": 10,
   "metadata": {},
   "outputs": [
    {
     "name": "stdout",
     "output_type": "stream",
     "text": [
      "Original array shape: (3, 3)\n",
      "Buffer size: 298 bytes\n",
      "Original array size: 36 bytes\n",
      "\n",
      "Loaded array shape: (3, 3)\n",
      "Arrays are equal: True\n",
      "\n",
      "Original array:\n",
      "[[1. 2. 3.]\n",
      " [4. 5. 6.]\n",
      " [7. 8. 9.]]\n",
      "\n",
      "Loaded array:\n",
      "[[1. 2. 3.]\n",
      " [4. 5. 6.]\n",
      " [7. 8. 9.]]\n"
     ]
    }
   ],
   "source": [
    "# Create a test array\n",
    "test_array = np.array([[1.0, 2.0, 3.0], [4.0, 5.0, 6.0], [7.0, 8.0, 9.0]], dtype=np.float32)\n",
    "\n",
    "# Save to BytesIO\n",
    "buffer = BytesIO()\n",
    "ArrayUtils.save_to_zip(test_array, buffer)\n",
    "\n",
    "print(f\"Original array shape: {test_array.shape}\")\n",
    "print(f\"Buffer size: {len(buffer.getvalue())} bytes\")\n",
    "print(f\"Original array size: {test_array.nbytes} bytes\")\n",
    "\n",
    "# Reset buffer position for reading\n",
    "buffer.seek(0)\n",
    "\n",
    "# Load from BytesIO\n",
    "loaded_from_buffer = ArrayUtils.load_from_zip(buffer)\n",
    "\n",
    "print(f\"\\nLoaded array shape: {loaded_from_buffer.shape}\")\n",
    "print(f\"Arrays are equal: {np.array_equal(test_array, loaded_from_buffer)}\")\n",
    "print(f\"\\nOriginal array:\")\n",
    "print(test_array)\n",
    "print(f\"\\nLoaded array:\")\n",
    "print(loaded_from_buffer)"
   ]
  },
  {
   "cell_type": "markdown",
   "metadata": {},
   "source": [
    "## 5. Testing Different Data Types\n",
    "\n",
    "The ArrayUtils can handle various numpy data types, automatically converting them for compression and restoring the original type upon decompression."
   ]
  },
  {
   "cell_type": "code",
   "execution_count": 11,
   "metadata": {},
   "outputs": [
    {
     "name": "stdout",
     "output_type": "stream",
     "text": [
      "Data type roundtrip tests:\n",
      "float32: dtype=True, values=True\n",
      "float64: dtype=True, values=True\n",
      "int32: dtype=True, values=True\n",
      "uint32: dtype=True, values=True\n",
      "int16: dtype=True, values=True\n",
      "uint16: dtype=True, values=True\n",
      "int8: dtype=True, values=True\n",
      "uint8: dtype=True, values=True\n",
      "\n",
      "All tests passed: True\n"
     ]
    }
   ],
   "source": [
    "def test_dtype_roundtrip(dtype_name, array):\n",
    "    \"\"\"Test encoding/decoding preserves data type and values.\"\"\"\n",
    "    try:\n",
    "        buffer = BytesIO()\n",
    "        ArrayUtils.save_to_zip(array, buffer)\n",
    "        buffer.seek(0)\n",
    "        loaded = ArrayUtils.load_from_zip(buffer)\n",
    "        \n",
    "        dtype_match = array.dtype == loaded.dtype\n",
    "        values_match = np.allclose(array, loaded, rtol=1e-5)\n",
    "        \n",
    "        print(f\"{dtype_name}: dtype={dtype_match}, values={values_match}\")\n",
    "        if not values_match:\n",
    "            print(f\"  Max difference: {np.max(np.abs(array.astype(np.float64) - loaded.astype(np.float64)))}\")\n",
    "        \n",
    "        return dtype_match and values_match\n",
    "    except Exception as e:\n",
    "        print(f\"{dtype_name}: ERROR - {e}\")\n",
    "        return False\n",
    "\n",
    "# Test various data types\n",
    "test_data = {\n",
    "    'float32': np.array([1.1, 2.2, 3.3, 4.4], dtype=np.float32),\n",
    "    'float64': np.array([1.1, 2.2, 3.3, 4.4], dtype=np.float64),\n",
    "    'int32': np.array([1, 2, 3, 4], dtype=np.int32),\n",
    "    'uint32': np.array([1, 2, 3, 4], dtype=np.uint32),\n",
    "    'int16': np.array([1, 2, 3, 4], dtype=np.int16),\n",
    "    'uint16': np.array([1, 2, 3, 4], dtype=np.uint16),\n",
    "    'int8': np.array([1, 2, 3, 4], dtype=np.int8),\n",
    "    'uint8': np.array([1, 2, 3, 4], dtype=np.uint8),\n",
    "}\n",
    "\n",
    "print(\"Data type roundtrip tests:\")\n",
    "all_passed = True\n",
    "for dtype_name, array in test_data.items():\n",
    "    passed = test_dtype_roundtrip(dtype_name, array)\n",
    "    all_passed = all_passed and passed\n",
    "\n",
    "print(f\"\\nAll tests passed: {all_passed}\")"
   ]
  },
  {
   "cell_type": "markdown",
   "metadata": {},
   "source": [
    "## 6. Performance Comparison\n",
    "\n",
    "Let's compare the performance and size benefits of using ArrayUtils compression versus standard numpy save/load methods."
   ]
  },
  {
   "cell_type": "code",
   "execution_count": 12,
   "metadata": {},
   "outputs": [
    {
     "name": "stdout",
     "output_type": "stream",
     "text": [
      "Test array shape: (1000, 100)\n",
      "Test array size: 400,000 bytes (0.38 MB)\n",
      "\n",
      "ArrayUtils (compressed):\n",
      "  Compressed size: 342,221 bytes (0.33 MB)\n",
      "  Compression ratio: 0.856\n",
      "  Compression time: 0.010 seconds\n",
      "  Decompression time: 0.002 seconds\n",
      "  Data integrity: True\n"
     ]
    }
   ],
   "source": [
    "import time\n",
    "\n",
    "# Create a larger test array\n",
    "large_array = np.random.random((1000, 100)).astype(np.float32)\n",
    "print(f\"Test array shape: {large_array.shape}\")\n",
    "print(f\"Test array size: {large_array.nbytes:,} bytes ({large_array.nbytes/1024/1024:.2f} MB)\")\n",
    "\n",
    "# Test ArrayUtils compression\n",
    "start_time = time.time()\n",
    "buffer_compressed = BytesIO()\n",
    "ArrayUtils.save_to_zip(large_array, buffer_compressed)\n",
    "compression_time = time.time() - start_time\n",
    "\n",
    "start_time = time.time()\n",
    "buffer_compressed.seek(0)\n",
    "loaded_compressed = ArrayUtils.load_from_zip(buffer_compressed)\n",
    "decompression_time = time.time() - start_time\n",
    "\n",
    "compressed_size = len(buffer_compressed.getvalue())\n",
    "\n",
    "print(f\"\\nArrayUtils (compressed):\")\n",
    "print(f\"  Compressed size: {compressed_size:,} bytes ({compressed_size/1024/1024:.2f} MB)\")\n",
    "print(f\"  Compression ratio: {compressed_size / large_array.nbytes:.3f}\")\n",
    "print(f\"  Compression time: {compression_time:.3f} seconds\")\n",
    "print(f\"  Decompression time: {decompression_time:.3f} seconds\")\n",
    "print(f\"  Data integrity: {np.allclose(large_array, loaded_compressed)}\")"
   ]
  },
  {
   "cell_type": "code",
   "execution_count": 13,
   "metadata": {},
   "outputs": [
    {
     "name": "stdout",
     "output_type": "stream",
     "text": [
      "\n",
      "Numpy save/load (uncompressed):\n",
      "  File size: 400,128 bytes (0.38 MB)\n",
      "  Save time: 0.000 seconds\n",
      "  Load time: 0.000 seconds\n",
      "  Data integrity: True\n",
      "\n",
      "Comparison:\n",
      "  Size reduction: 14.5% smaller\n",
      "  Compression time vs numpy save: 95.6x\n",
      "  Decompression time vs numpy load: 7.5x\n"
     ]
    }
   ],
   "source": [
    "# Compare with standard numpy save (uncompressed)\n",
    "start_time = time.time()\n",
    "buffer_numpy = BytesIO()\n",
    "np.save(buffer_numpy, large_array)\n",
    "numpy_save_time = time.time() - start_time\n",
    "\n",
    "start_time = time.time()\n",
    "buffer_numpy.seek(0)\n",
    "loaded_numpy = np.load(buffer_numpy)\n",
    "numpy_load_time = time.time() - start_time\n",
    "\n",
    "numpy_size = len(buffer_numpy.getvalue())\n",
    "\n",
    "print(f\"\\nNumpy save/load (uncompressed):\")\n",
    "print(f\"  File size: {numpy_size:,} bytes ({numpy_size/1024/1024:.2f} MB)\")\n",
    "print(f\"  Save time: {numpy_save_time:.3f} seconds\")\n",
    "print(f\"  Load time: {numpy_load_time:.3f} seconds\")\n",
    "print(f\"  Data integrity: {np.array_equal(large_array, loaded_numpy)}\")\n",
    "\n",
    "print(f\"\\nComparison:\")\n",
    "print(f\"  Size reduction: {(1 - compressed_size/numpy_size)*100:.1f}% smaller\")\n",
    "print(f\"  Compression time vs numpy save: {compression_time/numpy_save_time:.1f}x\")\n",
    "print(f\"  Decompression time vs numpy load: {decompression_time/numpy_load_time:.1f}x\")"
   ]
  },
  {
   "cell_type": "markdown",
   "metadata": {},
   "source": [
    "## 7. Cross-Platform Compatibility\n",
    "\n",
    "One of the key benefits of ArrayUtils is that the zip files created by Python can be loaded by the TypeScript version of the library, enabling seamless data exchange between Python and JavaScript/TypeScript environments."
   ]
  },
  {
   "cell_type": "code",
   "execution_count": 14,
   "metadata": {},
   "outputs": [
    {
     "name": "stdout",
     "output_type": "stream",
     "text": [
      "Vertex data shape: (6, 3)\n",
      "Vertex data:\n",
      "[[0.  0.  0. ]\n",
      " [1.  0.  0. ]\n",
      " [0.5 1.  0. ]\n",
      " [1.  0.  0. ]\n",
      " [2.  0.  0. ]\n",
      " [1.5 1.  0. ]]\n",
      "\n",
      "Saved vertex data to demo_vertices.zip\n",
      "File size: 313 bytes\n",
      "\n",
      "This zip file can be loaded in TypeScript using:\n",
      "const vertices = await ArrayUtils.loadFromZip(zipBuffer);\n"
     ]
    }
   ],
   "source": [
    "# Create a demo array that could be used in a web application\n",
    "# For example, 3D vertex data for a mesh\n",
    "vertex_data = np.array([\n",
    "    # Triangle 1\n",
    "    [0.0, 0.0, 0.0],  # vertex 0\n",
    "    [1.0, 0.0, 0.0],  # vertex 1\n",
    "    [0.5, 1.0, 0.0],  # vertex 2\n",
    "    # Triangle 2\n",
    "    [1.0, 0.0, 0.0],  # vertex 3\n",
    "    [2.0, 0.0, 0.0],  # vertex 4\n",
    "    [1.5, 1.0, 0.0],  # vertex 5\n",
    "], dtype=np.float32)\n",
    "\n",
    "print(f\"Vertex data shape: {vertex_data.shape}\")\n",
    "print(f\"Vertex data:\")\n",
    "print(vertex_data)\n",
    "\n",
    "# Save to a zip file that can be loaded by TypeScript\n",
    "demo_path = \"demo_vertices.zip\"\n",
    "ArrayUtils.save_to_zip(vertex_data, demo_path)\n",
    "\n",
    "print(f\"\\nSaved vertex data to {demo_path}\")\n",
    "print(f\"File size: {os.path.getsize(demo_path)} bytes\")\n",
    "\n",
    "# This file can now be loaded in TypeScript using:\n",
    "# const vertices = await ArrayUtils.loadFromZip(zipBuffer);\n",
    "print(\"\\nThis zip file can be loaded in TypeScript using:\")\n",
    "print(\"const vertices = await ArrayUtils.loadFromZip(zipBuffer);\")"
   ]
  },
  {
   "cell_type": "code",
   "execution_count": 15,
   "metadata": {},
   "outputs": [
    {
     "name": "stdout",
     "output_type": "stream",
     "text": [
      "Loaded vertex data shape: (6, 3)\n",
      "Data matches: True\n",
      "Loaded vertex data:\n",
      "[[0.  0.  0. ]\n",
      " [1.  0.  0. ]\n",
      " [0.5 1.  0. ]\n",
      " [1.  0.  0. ]\n",
      " [2.  0.  0. ]\n",
      " [1.5 1.  0. ]]\n",
      "\n",
      "Cleaned up demo_vertices.zip\n"
     ]
    }
   ],
   "source": [
    "# Verify the file can be loaded back in Python\n",
    "loaded_vertices = ArrayUtils.load_from_zip(demo_path)\n",
    "\n",
    "print(f\"Loaded vertex data shape: {loaded_vertices.shape}\")\n",
    "print(f\"Data matches: {np.array_equal(vertex_data, loaded_vertices)}\")\n",
    "print(f\"Loaded vertex data:\")\n",
    "print(loaded_vertices)\n",
    "\n",
    "# Clean up\n",
    "os.unlink(demo_path)\n",
    "print(f\"\\nCleaned up {demo_path}\")"
   ]
  },
  {
   "cell_type": "markdown",
   "metadata": {},
   "source": [
    "## 8. Best Practices and Use Cases\n",
    "\n",
    "Here are some recommendations for when and how to use ArrayUtils:"
   ]
  },
  {
   "cell_type": "markdown",
   "metadata": {},
   "source": [
    "## Summary\n",
    "\n",
    "The ArrayUtils class provides a powerful and efficient way to compress and serialize numpy arrays using meshoptimizer compression. Key benefits include:\n",
    "\n",
    "- **Efficient compression**: Particularly effective on structured 3D graphics data\n",
    "- **Cross-platform compatibility**: Python-created files can be loaded in TypeScript\n",
    "- **Type preservation**: Original numpy data types are preserved through the roundtrip\n",
    "- **Flexible I/O**: Supports both file-based and in-memory (BytesIO) operations\n",
    "- **Easy to use**: Simple API with `save_to_zip()` and `load_from_zip()` methods\n",
    "\n",
    "This makes it an excellent choice for applications that need to share numeric data between Python backends and JavaScript/TypeScript frontends, such as web-based 3D visualizations, scientific data viewers, or game development tools."
   ]
  }
 ],
 "metadata": {
  "kernelspec": {
   "display_name": "Python 3",
   "language": "python",
   "name": "python3"
  },
  "language_info": {
   "codemirror_mode": {
    "name": "ipython",
    "version": 3
   },
   "file_extension": ".py",
   "mimetype": "text/x-python",
   "name": "python",
   "nbconvert_exporter": "python",
   "pygments_lexer": "ipython3",
   "version": "3.12.11"
  }
 },
 "nbformat": 4,
 "nbformat_minor": 4
}
