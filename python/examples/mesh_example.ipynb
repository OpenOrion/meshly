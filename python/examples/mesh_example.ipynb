{
    "cells": [
        {
            "cell_type": "markdown",
            "metadata": {},
            "source": [
                "# Pydantic-based Mesh Example\n",
                "\n",
                "This notebook demonstrates how to use the new Pydantic-based Mesh class in meshly. It covers:\n",
                "\n",
                "1. Creating custom Mesh subclasses with additional attributes\n",
                "2. Working with numpy arrays in Pydantic models\n",
                "3. Encoding and decoding meshes to/from zip files\n",
                "4. Optimizing meshes with the built-in optimization methods"
            ]
        },
        {
            "cell_type": "code",
            "execution_count": 1,
            "metadata": {},
            "outputs": [],
            "source": [
                "import os\n",
                "import numpy as np\n",
                "from typing import Optional, List\n",
                "from pydantic import Field\n",
                "\n",
                "# Import the Mesh class\n",
                "from meshly import Mesh, MeshUtils"
            ]
        },
        {
            "cell_type": "markdown",
            "metadata": {},
            "source": [
                "## 1. Creating a Custom Mesh Subclass\n",
                "\n",
                "One of the key benefits of the new Pydantic-based Mesh class is the ability to create custom subclasses with additional attributes. Let's create a `TexturedMesh` class that adds texture coordinates and normals."
            ]
        },
        {
            "cell_type": "code",
            "execution_count": 2,
            "metadata": {},
            "outputs": [],
            "source": [
                "class TexturedMesh(Mesh):\n",
                "    \"\"\"\n",
                "    A mesh with texture coordinates and normals.\n",
                "    \n",
                "    This demonstrates how to create a custom Mesh subclass with additional\n",
                "    numpy array attributes that will be automatically encoded/decoded.\n",
                "    \"\"\"\n",
                "    # Add texture coordinates and normals as additional numpy arrays\n",
                "    texture_coords: np.ndarray = Field(..., description=\"Texture coordinates\")\n",
                "    normals: Optional[np.ndarray] = Field(None, description=\"Vertex normals\")\n",
                "    \n",
                "    # Add non-array attributes\n",
                "    material_name: str = Field(\"default\", description=\"Material name\")\n",
                "    tags: List[str] = Field(default_factory=list, description=\"Tags for the mesh\")"
            ]
        },
        {
            "cell_type": "markdown",
            "metadata": {},
            "source": [
                "## 2. Creating a Mesh Instance\n",
                "\n",
                "Now let's create a simple cube mesh with texture coordinates and normals."
            ]
        },
        {
            "cell_type": "code",
            "execution_count": 3,
            "metadata": {},
            "outputs": [
                {
                    "name": "stdout",
                    "output_type": "stream",
                    "text": [
                        "Mesh created with 8 vertices and 36 indices\n",
                        "Material name: cube_material\n",
                        "Tags: ['cube', 'example']\n"
                    ]
                }
            ],
            "source": [
                "# Create vertices for a cube\n",
                "vertices = np.array([\n",
                "    [-0.5, -0.5, -0.5],  # 0: bottom-left-back\n",
                "    [0.5, -0.5, -0.5],   # 1: bottom-right-back\n",
                "    [0.5, 0.5, -0.5],    # 2: top-right-back\n",
                "    [-0.5, 0.5, -0.5],   # 3: top-left-back\n",
                "    [-0.5, -0.5, 0.5],   # 4: bottom-left-front\n",
                "    [0.5, -0.5, 0.5],    # 5: bottom-right-front\n",
                "    [0.5, 0.5, 0.5],     # 6: top-right-front\n",
                "    [-0.5, 0.5, 0.5]     # 7: top-left-front\n",
                "], dtype=np.float32)\n",
                "\n",
                "# Create indices for the cube\n",
                "indices = np.array([\n",
                "    0, 1, 2, 2, 3, 0,  # back face\n",
                "    1, 5, 6, 6, 2, 1,  # right face\n",
                "    5, 4, 7, 7, 6, 5,  # front face\n",
                "    4, 0, 3, 3, 7, 4,  # left face\n",
                "    3, 2, 6, 6, 7, 3,  # top face\n",
                "    4, 5, 1, 1, 0, 4   # bottom face\n",
                "], dtype=np.uint32)\n",
                "\n",
                "# Create texture coordinates (one for each vertex)\n",
                "texture_coords = np.array([\n",
                "    [0.0, 0.0],  # 0\n",
                "    [1.0, 0.0],  # 1\n",
                "    [1.0, 1.0],  # 2\n",
                "    [0.0, 1.0],  # 3\n",
                "    [0.0, 0.0],  # 4\n",
                "    [1.0, 0.0],  # 5\n",
                "    [1.0, 1.0],  # 6\n",
                "    [0.0, 1.0]   # 7\n",
                "], dtype=np.float32)\n",
                "\n",
                "# Create normals (one for each vertex)\n",
                "normals = np.array([\n",
                "    [0.0, 0.0, -1.0],  # 0: back\n",
                "    [0.0, 0.0, -1.0],  # 1: back\n",
                "    [0.0, 0.0, -1.0],  # 2: back\n",
                "    [0.0, 0.0, -1.0],  # 3: back\n",
                "    [0.0, 0.0, 1.0],   # 4: front\n",
                "    [0.0, 0.0, 1.0],   # 5: front\n",
                "    [0.0, 0.0, 1.0],   # 6: front\n",
                "    [0.0, 0.0, 1.0]    # 7: front\n",
                "], dtype=np.float32)\n",
                "\n",
                "# Create the textured mesh\n",
                "mesh = TexturedMesh(\n",
                "    vertices=vertices,\n",
                "    indices=indices,\n",
                "    texture_coords=texture_coords,\n",
                "    normals=normals,\n",
                "    material_name=\"cube_material\",\n",
                "    tags=[\"cube\", \"example\"]\n",
                ")\n",
                "\n",
                "print(f\"Mesh created with {mesh.vertex_count} vertices and {mesh.index_count} indices\")\n",
                "print(f\"Material name: {mesh.material_name}\")\n",
                "print(f\"Tags: {mesh.tags}\")"
            ]
        },
        {
            "cell_type": "markdown",
            "metadata": {},
            "source": [
                "## 3. Optimizing the Mesh\n",
                "\n",
                "The Mesh class provides several optimization methods that can be used to improve rendering performance."
            ]
        },
        {
            "cell_type": "code",
            "execution_count": 4,
            "metadata": {},
            "outputs": [
                {
                    "name": "stdout",
                    "output_type": "stream",
                    "text": [
                        "Optimized for vertex cache\n",
                        "Optimized for overdraw\n",
                        "Optimized for vertex fetch\n"
                    ]
                }
            ],
            "source": [
                "# Optimize the mesh for vertex cache\n",
                "MeshUtils.optimize_vertex_cache(mesh)\n",
                "print(\"Optimized for vertex cache\")\n",
                "\n",
                "# Optimize the mesh for overdraw\n",
                "MeshUtils.optimize_overdraw(mesh)\n",
                "print(\"Optimized for overdraw\")\n",
                "\n",
                "# Optimize the mesh for vertex fetch\n",
                "MeshUtils.optimize_vertex_fetch(mesh)\n",
                "print(\"Optimized for vertex fetch\")"
            ]
        },
        {
            "cell_type": "markdown",
            "metadata": {},
            "source": [
                "## 4. Encoding and Saving the Mesh\n",
                "\n",
                "The Mesh class provides methods for encoding the mesh and saving it to a zip file."
            ]
        },
        {
            "cell_type": "code",
            "execution_count": 5,
            "metadata": {},
            "outputs": [
                {
                    "name": "stdout",
                    "output_type": "stream",
                    "text": [
                        "Encoded mesh: 67 bytes for vertices, 29 bytes for indices\n",
                        "Encoded arrays: ['texture_coords', 'normals']\n",
                        "Saved mesh to textured_cube.zip, file size: 1248 bytes\n"
                    ]
                }
            ],
            "source": [
                "# Encode the mesh\n",
                "encoded_data = MeshUtils.encode(mesh)\n",
                "print(f\"Encoded mesh: {len(encoded_data['mesh'].vertices)} bytes for vertices, {len(encoded_data['mesh'].indices)} bytes for indices\")\n",
                "print(f\"Encoded arrays: {list(encoded_data['arrays'].keys())}\")\n",
                "\n",
                "# Save the mesh to a zip file\n",
                "zip_path = \"textured_cube.zip\"\n",
                "MeshUtils.save_to_zip(mesh, zip_path)\n",
                "print(f\"Saved mesh to {zip_path}, file size: {os.path.getsize(zip_path)} bytes\")"
            ]
        },
        {
            "cell_type": "markdown",
            "metadata": {},
            "source": [
                "## 5. Loading the Mesh from a Zip File\n",
                "\n",
                "The Mesh class provides a class method for loading a mesh from a zip file."
            ]
        },
        {
            "cell_type": "code",
            "execution_count": 6,
            "metadata": {},
            "outputs": [
                {
                    "name": "stdout",
                    "output_type": "stream",
                    "text": [
                        "Loaded mesh: 8 vertices, 36 indices\n",
                        "Material name: cube_material\n",
                        "Tags: ['cube', 'example']\n",
                        "\n",
                        "Texture coordinates shape: (8, 2)\n",
                        "Normals shape: (8, 3)\n"
                    ]
                }
            ],
            "source": [
                "# Load the mesh from the zip file\n",
                "loaded_mesh = MeshUtils.load_from_zip(TexturedMesh, zip_path)\n",
                "print(f\"Loaded mesh: {loaded_mesh.vertex_count} vertices, {loaded_mesh.index_count} indices\")\n",
                "print(f\"Material name: {loaded_mesh.material_name}\")\n",
                "print(f\"Tags: {loaded_mesh.tags}\")\n",
                "\n",
                "# Verify that the texture coordinates and normals were loaded correctly\n",
                "print(f\"\\nTexture coordinates shape: {loaded_mesh.texture_coords.shape}\")\n",
                "print(f\"Normals shape: {loaded_mesh.normals.shape}\")"
            ]
        },
        {
            "cell_type": "markdown",
            "metadata": {},
            "source": [
                "## 6. Creating a Different Mesh Subclass\n",
                "\n",
                "Let's create another mesh subclass with different attributes to demonstrate the flexibility of the Pydantic-based Mesh class."
            ]
        },
        {
            "cell_type": "code",
            "execution_count": 7,
            "metadata": {},
            "outputs": [
                {
                    "name": "stdout",
                    "output_type": "stream",
                    "text": [
                        "Skinned mesh created with 8 vertices and 36 indices\n",
                        "Skeleton name: human_skeleton\n",
                        "Animation names: ['walk', 'run', 'jump']\n",
                        "Bone weights shape: (8, 4)\n",
                        "Bone indices shape: (8, 4)\n"
                    ]
                }
            ],
            "source": [
                "class SkinnedMesh(Mesh):\n",
                "    \"\"\"\n",
                "    A mesh with skinning information for animation.\n",
                "    \"\"\"\n",
                "    # Add bone weights and indices as additional numpy arrays\n",
                "    bone_weights: np.ndarray = Field(..., description=\"Bone weights for each vertex\")\n",
                "    bone_indices: np.ndarray = Field(..., description=\"Bone indices for each vertex\")\n",
                "    \n",
                "    # Add non-array attributes\n",
                "    skeleton_name: str = Field(\"default\", description=\"Skeleton name\")\n",
                "    animation_names: List[str] = Field(default_factory=list, description=\"Animation names\")\n",
                "\n",
                "# Create a simple skinned mesh\n",
                "skinned_mesh = SkinnedMesh(\n",
                "    vertices=vertices,\n",
                "    indices=indices,\n",
                "    bone_weights=np.random.random((len(vertices), 4)).astype(np.float32),  # 4 weights per vertex\n",
                "    bone_indices=np.random.randint(0, 4, (len(vertices), 4)).astype(np.uint8),  # 4 bone indices per vertex\n",
                "    skeleton_name=\"human_skeleton\",\n",
                "    animation_names=[\"walk\", \"run\", \"jump\"]\n",
                ")\n",
                "\n",
                "print(f\"Skinned mesh created with {skinned_mesh.vertex_count} vertices and {skinned_mesh.index_count} indices\")\n",
                "print(f\"Skeleton name: {skinned_mesh.skeleton_name}\")\n",
                "print(f\"Animation names: {skinned_mesh.animation_names}\")\n",
                "print(f\"Bone weights shape: {skinned_mesh.bone_weights.shape}\")\n",
                "print(f\"Bone indices shape: {skinned_mesh.bone_indices.shape}\")"
            ]
        },
        {
            "cell_type": "markdown",
            "metadata": {},
            "source": [
                "## 7. Saving and Loading the Skinned Mesh\n",
                "\n",
                "Let's save and load the skinned mesh to demonstrate that all attributes are preserved."
            ]
        },
        {
            "cell_type": "code",
            "execution_count": 10,
            "metadata": {},
            "outputs": [
                {
                    "name": "stdout",
                    "output_type": "stream",
                    "text": [
                        "Saved skinned mesh to skinned_cube.zip, file size: 1401 bytes\n",
                        "\n",
                        "Loaded skinned mesh: 8 vertices, 36 indices\n",
                        "Skeleton name: human_skeleton\n",
                        "Animation names: ['walk', 'run', 'jump']\n",
                        "Bone weights shape: (8, 4)\n",
                        "Bone indices shape: (8, 4)\n"
                    ]
                }
            ],
            "source": [
                "# Save the skinned mesh to a zip file\n",
                "skinned_zip_path = \"skinned_cube.zip\"\n",
                "MeshUtils.save_to_zip(skinned_mesh, skinned_zip_path)\n",
                "print(f\"Saved skinned mesh to {skinned_zip_path}, file size: {os.path.getsize(skinned_zip_path)} bytes\")\n",
                "\n",
                "# Load the skinned mesh from the zip file\n",
                "loaded_skinned_mesh = MeshUtils.load_from_zip(SkinnedMesh, skinned_zip_path)\n",
                "print(f\"\\nLoaded skinned mesh: {loaded_skinned_mesh.vertex_count} vertices, {loaded_skinned_mesh.index_count} indices\")\n",
                "print(f\"Skeleton name: {loaded_skinned_mesh.skeleton_name}\")\n",
                "print(f\"Animation names: {loaded_skinned_mesh.animation_names}\")\n",
                "print(f\"Bone weights shape: {loaded_skinned_mesh.bone_weights.shape}\")\n",
                "print(f\"Bone indices shape: {loaded_skinned_mesh.bone_indices.shape}\")"
            ]
        },
        {
            "cell_type": "markdown",
            "metadata": {},
            "source": [
                "## 8. Cleaning Up\n",
                "\n",
                "Let's clean up the files we created."
            ]
        },
        {
            "cell_type": "code",
            "execution_count": 9,
            "metadata": {},
            "outputs": [
                {
                    "name": "stdout",
                    "output_type": "stream",
                    "text": [
                        "Removed textured_cube.zip\n",
                        "Removed skinned_cube.zip\n",
                        "\n",
                        "Example completed successfully!\n"
                    ]
                }
            ],
            "source": [
                "# Clean up\n",
                "for path in [zip_path, skinned_zip_path]:\n",
                "    if os.path.exists(path):\n",
                "        os.remove(path)\n",
                "        print(f\"Removed {path}\")\n",
                "\n",
                "print(\"\\nExample completed successfully!\")"
            ]
        }
    ],
    "metadata": {
        "kernelspec": {
            "display_name": "Python 3",
            "language": "python",
            "name": "python3"
        },
        "language_info": {
            "codemirror_mode": {
                "name": "ipython",
                "version": 3
            },
            "file_extension": ".py",
            "mimetype": "text/x-python",
            "name": "python",
            "nbconvert_exporter": "python",
            "pygments_lexer": "ipython3",
            "version": "3.12.8"
        }
    },
    "nbformat": 4,
    "nbformat_minor": 4
}
